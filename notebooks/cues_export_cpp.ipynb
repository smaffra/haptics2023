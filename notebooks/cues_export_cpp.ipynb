{
 "cells": [
  {
   "cell_type": "code",
   "execution_count": 1,
   "metadata": {},
   "outputs": [],
   "source": [
    "from gesture_cues import *\n"
   ]
  },
  {
   "cell_type": "code",
   "execution_count": 2,
   "metadata": {},
   "outputs": [],
   "source": [
    "def save_cue(filename, cue):\n",
    "    npoints = len(cue)\n",
    "    nrow = cue[0].shape[0]\n",
    "    ncol = cue[0].shape[1]\n",
    "    with open(filename, 'wt') as f:\n",
    "        f.write('{}'.format(npoints))\n",
    "        f.write('\\n{}'.format(nrow))\n",
    "        f.write('\\n{}'.format(ncol))\n",
    "        for i in range(nrow):\n",
    "            for p in range(npoints):\n",
    "                temp = []\n",
    "                for j in range(ncol):\n",
    "                    temp.append('{}'.format(cue[p][i,j]))\n",
    "                f.write('\\n{}'.format(' '.join(temp)))"
   ]
  },
  {
   "cell_type": "code",
   "execution_count": 3,
   "metadata": {},
   "outputs": [],
   "source": [
    "cues = create_gesture_cues(size=10)"
   ]
  },
  {
   "cell_type": "code",
   "execution_count": 4,
   "metadata": {},
   "outputs": [
    {
     "data": {
      "text/plain": [
       "{'pinch': <gesture_cues.GestureCue at 0x1f7a35cf248>,\n",
       " 'swipe_left': <gesture_cues.GestureCue at 0x1f7a35cf0c8>,\n",
       " 'swipe_right': <gesture_cues.GestureCue at 0x1f7a35cff08>,\n",
       " 'tap': <gesture_cues.GestureCue at 0x1f7a35cfe88>,\n",
       " 'left': <gesture_cues.GestureCue at 0x1f7a35cfe48>,\n",
       " 'right': <gesture_cues.GestureCue at 0x1f7a35cfdc8>,\n",
       " 'up': <gesture_cues.GestureCue at 0x1f7a35cfd48>,\n",
       " 'down': <gesture_cues.GestureCue at 0x1f7a35cfc88>,\n",
       " 'northwest': <gesture_cues.GestureCue at 0x1f7a35cfbc8>,\n",
       " 'northeast': <gesture_cues.GestureCue at 0x1f7a35cfb08>,\n",
       " 'southwest': <gesture_cues.GestureCue at 0x1f7a35cfa08>,\n",
       " 'southeast': <gesture_cues.GestureCue at 0x1f7a35cf908>,\n",
       " 'west': <gesture_cues.GestureCue at 0x1f7a35cf848>,\n",
       " 'east': <gesture_cues.GestureCue at 0x1f7a35cf788>,\n",
       " 'north': <gesture_cues.GestureCue at 0x1f7a35cf688>,\n",
       " 'south': <gesture_cues.GestureCue at 0x1f7a35cf588>}"
      ]
     },
     "execution_count": 4,
     "metadata": {},
     "output_type": "execute_result"
    }
   ],
   "source": [
    "cues"
   ]
  },
  {
   "cell_type": "code",
   "execution_count": 5,
   "metadata": {},
   "outputs": [],
   "source": [
    "for key,cue in cues.items():\n",
    "    temp = cue.sample(device_frequency=16000, duration=0.5, intensity_frequency=200, time_gap=[0.1,0.1])\n",
    "    save_cue('c:/cues/{}.txt'.format(key), temp)\n",
    "    \n",
    "for key,cue in cues.items():\n",
    "    temp = cue.sample(device_frequency=16000, duration=0.25, intensity_frequency=200, time_gap=[0.1,0.1])\n",
    "    save_cue('c:/cues/{}_half.txt'.format(key), temp)\n",
    "    \n",
    "for key,cue in cues.items():\n",
    "    temp = cue.sample(device_frequency=16000, duration=0.125, intensity_frequency=200, time_gap=[0.1,0.1])\n",
    "    save_cue('c:/cues/{}_quarter.txt'.format(key), temp)"
   ]
  }
 ],
 "metadata": {
  "kernelspec": {
   "display_name": "Python 3",
   "language": "python",
   "name": "python3"
  },
  "language_info": {
   "codemirror_mode": {
    "name": "ipython",
    "version": 3
   },
   "file_extension": ".py",
   "mimetype": "text/x-python",
   "name": "python",
   "nbconvert_exporter": "python",
   "pygments_lexer": "ipython3",
   "version": "3.7.4"
  }
 },
 "nbformat": 4,
 "nbformat_minor": 2
}
